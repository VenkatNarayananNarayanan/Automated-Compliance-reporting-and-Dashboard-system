{
 "cells": [
  {
   "cell_type": "code",
   "execution_count": 1,
   "id": "3bc9dc07",
   "metadata": {},
   "outputs": [
    {
     "name": "stdout",
     "output_type": "stream",
     "text": [
      "✅ Email sent successfully.\n"
     ]
    }
   ],
   "source": [
    "import smtplib\n",
    "import os\n",
    "from email.message import EmailMessage\n",
    "from datetime import datetime\n",
    "\n",
    "# ==== CONFIGURE THESE ====\n",
    "EMAIL_ADDRESS = \"sampleandtestingdata@gmail.com\"\n",
    "EMAIL_PASSWORD = \"cbwsolrxiaamahut\"\n",
    "TO_EMAIL = \"pythonboyvenky@gmail.com\"\n",
    "REPORT_FOLDER = r\"C:\\Users\\VENKAT\\Desktop\\Compliance_project\\report\"\n",
    "# ==========================\n",
    "\n",
    "# Compose message\n",
    "msg = EmailMessage()\n",
    "msg[\"Subject\"] = f\"Weekly Compliance Reports – {datetime.now().strftime('%d-%m-%Y')}\"\n",
    "msg[\"From\"] = EMAIL_ADDRESS\n",
    "msg[\"To\"] = TO_EMAIL\n",
    "msg.set_content(\"Hi Manager,\\n\\nPlease find attached the latest compliance reports.\\n\\nRegards,\\nCompliance System\")\n",
    "\n",
    "# Attach all PDFs\n",
    "for filename in os.listdir(REPORT_FOLDER):\n",
    "    if filename.endswith(\".pdf\"):\n",
    "        filepath = os.path.join(REPORT_FOLDER, filename)\n",
    "        with open(filepath, \"rb\") as f:\n",
    "            file_data = f.read()\n",
    "        msg.add_attachment(file_data, maintype=\"application\", subtype=\"pdf\", filename=filename)\n",
    "\n",
    "# Send email\n",
    "with smtplib.SMTP_SSL(\"smtp.gmail.com\", 465) as smtp:\n",
    "    smtp.login(EMAIL_ADDRESS, EMAIL_PASSWORD)\n",
    "    smtp.send_message(msg)\n",
    "\n",
    "print(\"✅ Email sent successfully.\")\n"
   ]
  },
  {
   "cell_type": "code",
   "execution_count": null,
   "id": "547352dd",
   "metadata": {},
   "outputs": [],
   "source": []
  }
 ],
 "metadata": {
  "kernelspec": {
   "display_name": "Python 3 (ipykernel)",
   "language": "python",
   "name": "python3"
  },
  "language_info": {
   "codemirror_mode": {
    "name": "ipython",
    "version": 3
   },
   "file_extension": ".py",
   "mimetype": "text/x-python",
   "name": "python",
   "nbconvert_exporter": "python",
   "pygments_lexer": "ipython3",
   "version": "3.9.13"
  }
 },
 "nbformat": 4,
 "nbformat_minor": 5
}
