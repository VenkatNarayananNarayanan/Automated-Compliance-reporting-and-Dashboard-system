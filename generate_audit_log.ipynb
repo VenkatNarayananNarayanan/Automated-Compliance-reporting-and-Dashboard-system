{
 "cells": [
  {
   "cell_type": "code",
   "execution_count": 1,
   "id": "c6ca1088",
   "metadata": {},
   "outputs": [
    {
     "name": "stdout",
     "output_type": "stream",
     "text": [
      "✅ Audit log updated: C:\\Users\\VENKAT\\Desktop\\Compliance_project\\report\\report_audit_log.csv\n"
     ]
    }
   ],
   "source": [
    "import os\n",
    "import csv\n",
    "from datetime import datetime\n",
    "\n",
    "# Folder where reports are saved\n",
    "report_folder = r\"C:\\Users\\VENKAT\\Desktop\\Compliance_project\\report\"\n",
    "\n",
    "# Output audit file path\n",
    "audit_log_file = os.path.join(report_folder, \"report_audit_log.csv\")\n",
    "\n",
    "# Scan the folder for PDFs\n",
    "files = [f for f in os.listdir(report_folder) if f.endswith(\".pdf\")]\n",
    "\n",
    "# Prepare audit log data\n",
    "audit_data = []\n",
    "for filename in files:\n",
    "    try:\n",
    "        # Extract date and report type from file name\n",
    "        base = filename.replace(\".pdf\", \"\")\n",
    "        if \"_\" in base:\n",
    "            report_name = base.rsplit(\"_\", 1)[0].replace(\"_\", \" \")\n",
    "            date_str = base.rsplit(\"_\", 1)[1]\n",
    "            gen_date = datetime.strptime(date_str, \"%d-%m-%Y\")\n",
    "            audit_data.append([report_name.strip().title(), gen_date.strftime(\"%Y-%m-%d\"), filename])\n",
    "    except:\n",
    "        continue  # skip if format is wrong\n",
    "\n",
    "# Sort by date (newest first)\n",
    "audit_data.sort(key=lambda x: x[1], reverse=True)\n",
    "\n",
    "# Write CSV\n",
    "with open(audit_log_file, \"w\", newline=\"\") as f:\n",
    "    writer = csv.writer(f)\n",
    "    writer.writerow([\"Report_Name\", \"Generated_On\", \"File_Name\"])\n",
    "    writer.writerows(audit_data)\n",
    "\n",
    "print(\"✅ Audit log updated:\", audit_log_file)"
   ]
  },
  {
   "cell_type": "code",
   "execution_count": null,
   "id": "8bc3b5d5",
   "metadata": {},
   "outputs": [],
   "source": []
  }
 ],
 "metadata": {
  "kernelspec": {
   "display_name": "Python 3 (ipykernel)",
   "language": "python",
   "name": "python3"
  },
  "language_info": {
   "codemirror_mode": {
    "name": "ipython",
    "version": 3
   },
   "file_extension": ".py",
   "mimetype": "text/x-python",
   "name": "python",
   "nbconvert_exporter": "python",
   "pygments_lexer": "ipython3",
   "version": "3.9.13"
  }
 },
 "nbformat": 4,
 "nbformat_minor": 5
}
